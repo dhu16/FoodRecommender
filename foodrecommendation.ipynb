{
  "nbformat": 4,
  "nbformat_minor": 0,
  "metadata": {
    "colab": {
      "name": "foodrecommendation.ipynb",
      "provenance": [],
      "collapsed_sections": [],
      "authorship_tag": "ABX9TyP7AlnwCqVC9ANI8pbQqod0",
      "include_colab_link": true
    },
    "kernelspec": {
      "name": "python3",
      "display_name": "Python 3"
    }
  },
  "cells": [
    {
      "cell_type": "markdown",
      "metadata": {
        "id": "view-in-github",
        "colab_type": "text"
      },
      "source": [
        "<a href=\"https://colab.research.google.com/github/dhu16/FoodRecommender/blob/master/foodrecommendation.ipynb\" target=\"_parent\"><img src=\"https://colab.research.google.com/assets/colab-badge.svg\" alt=\"Open In Colab\"/></a>"
      ]
    },
    {
      "cell_type": "code",
      "metadata": {
        "id": "U8l4tsuKdVgN",
        "colab_type": "code",
        "colab": {
          "base_uri": "https://localhost:8080/",
          "height": 122
        },
        "outputId": "a02b23e4-2e45-43f4-d24e-fe0927256d6c"
      },
      "source": [
        "from google.colab import drive\n",
        "drive.mount('/content/drive')"
      ],
      "execution_count": null,
      "outputs": [
        {
          "output_type": "stream",
          "text": [
            "Go to this URL in a browser: https://accounts.google.com/o/oauth2/auth?client_id=947318989803-6bn6qk8qdgf4n4g3pfee6491hc0brc4i.apps.googleusercontent.com&redirect_uri=urn%3aietf%3awg%3aoauth%3a2.0%3aoob&scope=email%20https%3a%2f%2fwww.googleapis.com%2fauth%2fdocs.test%20https%3a%2f%2fwww.googleapis.com%2fauth%2fdrive%20https%3a%2f%2fwww.googleapis.com%2fauth%2fdrive.photos.readonly%20https%3a%2f%2fwww.googleapis.com%2fauth%2fpeopleapi.readonly&response_type=code\n",
            "\n",
            "Enter your authorization code:\n",
            "··········\n",
            "Mounted at /content/drive\n"
          ],
          "name": "stdout"
        }
      ]
    },
    {
      "cell_type": "code",
      "metadata": {
        "id": "HLwFI492fx6C",
        "colab_type": "code",
        "colab": {}
      },
      "source": [
        "!pip install PyDrive"
      ],
      "execution_count": null,
      "outputs": []
    },
    {
      "cell_type": "code",
      "metadata": {
        "id": "clvbFHU8f5yv",
        "colab_type": "code",
        "colab": {}
      },
      "source": [
        "from pydrive.auth import GoogleAuth\n",
        "from pydrive.drive import GoogleDrive\n",
        "from google.colab import auth\n",
        "from oauth2client.client import GoogleCredentials"
      ],
      "execution_count": null,
      "outputs": []
    },
    {
      "cell_type": "code",
      "metadata": {
        "id": "J1OXq6nHf_oW",
        "colab_type": "code",
        "colab": {}
      },
      "source": [
        "auth.authenticate_user()\n",
        "gauth = GoogleAuth()\n",
        "gauth.credentials = GoogleCredentials.get_application_default()\n",
        "drive = GoogleDrive(gauth)"
      ],
      "execution_count": null,
      "outputs": []
    },
    {
      "cell_type": "code",
      "metadata": {
        "id": "tP0zqr_Agjc_",
        "colab_type": "code",
        "colab": {}
      },
      "source": [
        "downloaded = drive.CreateFile({'id':\"1hzJcXcP_k4x8DrRFfW2wEuiV2BPVkb7A\"})\n",
        "downloaded.GetContentFile('menu.csv')"
      ],
      "execution_count": null,
      "outputs": []
    },
    {
      "cell_type": "code",
      "metadata": {
        "id": "J5PaWhZZqoJa",
        "colab_type": "code",
        "colab": {}
      },
      "source": [
        "#This will be a food recommendation algorithm using the McDonald's menu\n",
        "#that will recommend users food based on the inputs of serving size,\n",
        "#calories, and total fat %"
      ],
      "execution_count": null,
      "outputs": []
    },
    {
      "cell_type": "code",
      "metadata": {
        "id": "ytGr8iTl69S-",
        "colab_type": "code",
        "colab": {}
      },
      "source": [
        "#Dataset: https://www.kaggle.com/mcdonalds/nutrition-facts"
      ],
      "execution_count": null,
      "outputs": []
    },
    {
      "cell_type": "code",
      "metadata": {
        "id": "D0gp3YaYg5oe",
        "colab_type": "code",
        "colab": {}
      },
      "source": [
        "#import data\n",
        "import pandas as pd\n",
        "import numpy as np\n",
        "\n",
        "data = pd.read_csv('menu.csv')\n",
        "data = data[['Category', 'Item', 'Calories', 'Total Fat (% Daily Value)', 'Protein']]"
      ],
      "execution_count": null,
      "outputs": []
    },
    {
      "cell_type": "code",
      "metadata": {
        "id": "3mKVM0V1pljh",
        "colab_type": "code",
        "colab": {
          "base_uri": "https://localhost:8080/",
          "height": 68
        },
        "outputId": "b4514df9-ca61-4f1a-a091-3b1e335c146f"
      },
      "source": [
        "#User Input Desired Nutrition\n",
        "calories = input(\"Enter Calories: \")\n",
        "fatpercent = input(\"Enter Total Fat %: \")\n",
        "#Because we generally want more protein in meals\n",
        "protein = input(\"Enter Min Amount of Protein: \")"
      ],
      "execution_count": null,
      "outputs": [
        {
          "output_type": "stream",
          "text": [
            "Enter Calories: 410\n",
            "Enter Total Fat %: 20\n",
            "Enter Amount of Protein: 17\n"
          ],
          "name": "stdout"
        }
      ]
    },
    {
      "cell_type": "code",
      "metadata": {
        "id": "XPC_UcLvQMAw",
        "colab_type": "code",
        "colab": {
          "base_uri": "https://localhost:8080/",
          "height": 269
        },
        "outputId": "228c7884-2e7d-4c1d-b85b-e54558dce471"
      },
      "source": [
        "#Filters data frame for all values within inputs and saves into new data frame\n",
        "filtered = data[(data['Calories'] < int(calories)) & (data['Total Fat (% Daily Value)'] < int(fatpercent)) & (data['Protein'] > int(protein))]\n",
        "filtered = filtered.sort_values('Calories', ascending=False)\n",
        "#filtered = filtered.sort_values('Total Fat (% Daily Value)', ascending=False)\n",
        "#filtered = filtered.sort_values('Protein', ascending=False)\n",
        "\n",
        "#Suggests 10 foods within the specifified values\n",
        "print(\"Here are some suggested options for you!\")\n",
        "print(\"\")\n",
        "filtered.head(10)"
      ],
      "execution_count": null,
      "outputs": [
        {
          "output_type": "stream",
          "text": [
            "Here are some suggested options for you!\n",
            "\n"
          ],
          "name": "stdout"
        },
        {
          "output_type": "execute_result",
          "data": {
            "text/html": [
              "<div>\n",
              "<style scoped>\n",
              "    .dataframe tbody tr th:only-of-type {\n",
              "        vertical-align: middle;\n",
              "    }\n",
              "\n",
              "    .dataframe tbody tr th {\n",
              "        vertical-align: top;\n",
              "    }\n",
              "\n",
              "    .dataframe thead th {\n",
              "        text-align: right;\n",
              "    }\n",
              "</style>\n",
              "<table border=\"1\" class=\"dataframe\">\n",
              "  <thead>\n",
              "    <tr style=\"text-align: right;\">\n",
              "      <th></th>\n",
              "      <th>Category</th>\n",
              "      <th>Item</th>\n",
              "      <th>Calories</th>\n",
              "      <th>Total Fat (% Daily Value)</th>\n",
              "      <th>Protein</th>\n",
              "    </tr>\n",
              "  </thead>\n",
              "  <tbody>\n",
              "    <tr>\n",
              "      <th>195</th>\n",
              "      <td>Coffee &amp; Tea</td>\n",
              "      <td>Hot Chocolate with Nonfat Milk (Large)</td>\n",
              "      <td>400</td>\n",
              "      <td>6</td>\n",
              "      <td>19</td>\n",
              "    </tr>\n",
              "    <tr>\n",
              "      <th>77</th>\n",
              "      <td>Chicken &amp; Fish</td>\n",
              "      <td>Premium McWrap Chicken Sweet Chili (Grilled Ch...</td>\n",
              "      <td>380</td>\n",
              "      <td>15</td>\n",
              "      <td>27</td>\n",
              "    </tr>\n",
              "    <tr>\n",
              "      <th>58</th>\n",
              "      <td>Chicken &amp; Fish</td>\n",
              "      <td>Premium Grilled Chicken Classic Sandwich</td>\n",
              "      <td>350</td>\n",
              "      <td>13</td>\n",
              "      <td>28</td>\n",
              "    </tr>\n",
              "    <tr>\n",
              "      <th>89</th>\n",
              "      <td>Salads</td>\n",
              "      <td>Premium Southwest Salad with Grilled Chicken</td>\n",
              "      <td>290</td>\n",
              "      <td>13</td>\n",
              "      <td>27</td>\n",
              "    </tr>\n",
              "    <tr>\n",
              "      <th>1</th>\n",
              "      <td>Breakfast</td>\n",
              "      <td>Egg White Delight</td>\n",
              "      <td>250</td>\n",
              "      <td>12</td>\n",
              "      <td>18</td>\n",
              "    </tr>\n",
              "    <tr>\n",
              "      <th>86</th>\n",
              "      <td>Salads</td>\n",
              "      <td>Premium Bacon Ranch Salad with Grilled Chicken</td>\n",
              "      <td>220</td>\n",
              "      <td>13</td>\n",
              "      <td>29</td>\n",
              "    </tr>\n",
              "  </tbody>\n",
              "</table>\n",
              "</div>"
            ],
            "text/plain": [
              "           Category  ... Protein\n",
              "195    Coffee & Tea  ...      19\n",
              "77   Chicken & Fish  ...      27\n",
              "58   Chicken & Fish  ...      28\n",
              "89           Salads  ...      27\n",
              "1         Breakfast  ...      18\n",
              "86           Salads  ...      29\n",
              "\n",
              "[6 rows x 5 columns]"
            ]
          },
          "metadata": {
            "tags": []
          },
          "execution_count": 65
        }
      ]
    }
  ]
}